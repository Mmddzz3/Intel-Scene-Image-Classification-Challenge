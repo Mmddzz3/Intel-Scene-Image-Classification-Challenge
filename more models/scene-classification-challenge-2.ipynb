{
 "cells": [
  {
   "cell_type": "code",
   "execution_count": 1,
   "metadata": {
    "_cell_guid": "b1076dfc-b9ad-4769-8c92-a6c4dae69d19",
    "_uuid": "8f2839f25d086af736a60e9eeb907d3b93b6e0e5"
   },
   "outputs": [
    {
     "name": "stderr",
     "output_type": "stream",
     "text": [
      "Using TensorFlow backend.\n"
     ]
    }
   ],
   "source": [
    "import os\n",
    "import re\n",
    "import cv2\n",
    "import glob\n",
    "import shutil\n",
    "import random\n",
    "import numpy as np\n",
    "import pandas as pd\n",
    "from keras import backend as K\n",
    "import matplotlib.pyplot as plt\n",
    "from keras.preprocessing import image\n",
    "from keras import layers, models, optimizers\n",
    "from sklearn.model_selection import train_test_split\n",
    "from keras.applications.vgg16 import preprocess_input\n",
    "from keras.preprocessing.image import ImageDataGenerator\n",
    "from keras.preprocessing.image import img_to_array, load_img\n",
    "\n",
    "\n",
    "TRAIN_DIR = '../input/train-scene classification/train/'\n",
    "TEST_DIR = '../input/test_WyRytb0.csv/'\n",
    "train_images = [TRAIN_DIR+i for i in os.listdir(TRAIN_DIR)]\n",
    "\n",
    "y_test = pd.read_csv(\"../input/test_WyRytb0.csv\")\n",
    "y_train = pd.read_csv(\"../input/train-scene classification/train.csv\")\n",
    "y_train = y_train['label']\n",
    "from keras.utils import to_categorical\n",
    "y_train_categorical = to_categorical(y_train, 6)\n",
    "\n",
    "train_images_list = []\n",
    "test_images_list = []\n",
    "a = list(y_test['image_name'])\n",
    "for i in train_images:\n",
    "    if str(i[42:]) not in a:\n",
    "        train_images_list.append(i)\n",
    "    if str(i[42:]) in a:\n",
    "        test_images_list.append(i)\n",
    "        \n",
    "def atoi(text):\n",
    "    return int(text) if text.isdigit() else text\n",
    "\n",
    "def natural_keys(text):\n",
    "    return [ atoi(c) for c in re.split('(\\d+)', text) ]\n",
    "\n",
    "train_images_list.sort(key=natural_keys)\n",
    "test_images_list.sort(key=natural_keys)\n",
    "\n",
    "def prepare_data(list_of_images):\n",
    "    x = [] \n",
    "    for image in list_of_images:\n",
    "        x.append(cv2.resize(cv2.imread(image), (150,150), interpolation=cv2.INTER_CUBIC))     \n",
    "    return x\n",
    "X_train = prepare_data(train_images_list)\n",
    "X_test = prepare_data(test_images_list)\n",
    "\n"
   ]
  },
  {
   "cell_type": "code",
   "execution_count": 2,
   "metadata": {
    "_uuid": "d7a3fa6ab417f900abb3fc0c013d621bbe786c69"
   },
   "outputs": [
    {
     "name": "stderr",
     "output_type": "stream",
     "text": [
      "/opt/conda/lib/python3.6/site-packages/sklearn/model_selection/_split.py:2179: FutureWarning: From version 0.21, test_size will always complement train_size unless both are specified.\n",
      "  FutureWarning)\n"
     ]
    }
   ],
   "source": [
    "X_train_prime, X_val, y_train_prime, y_val = train_test_split(X_train, y_train_categorical, random_state = 6, train_size = .75)\n",
    "train_datagen = ImageDataGenerator(\n",
    "    rescale=1. / 255,\n",
    "    shear_range=0.3,\n",
    "    zoom_range=0.3,\n",
    "    horizontal_flip=True)\n",
    "\n",
    "val_datagen = ImageDataGenerator(\n",
    "    rescale=1. / 255,\n",
    "    shear_range=0.3,\n",
    "    zoom_range=0.3,\n",
    "    horizontal_flip=True)\n",
    "train_generator = train_datagen.flow(np.array(X_train_prime), y_train_prime, batch_size = 16, shuffle = True)\n",
    "validation_generator = val_datagen.flow(np.array(X_val), y_val, batch_size = 16, shuffle = True)"
   ]
  },
  {
   "cell_type": "code",
   "execution_count": 3,
   "metadata": {
    "_uuid": "d478dfdd2d0d565d72beb17a9499f2bb3ed5dd15"
   },
   "outputs": [
    {
     "name": "stdout",
     "output_type": "stream",
     "text": [
      "Downloading data from https://github.com/fchollet/deep-learning-models/releases/download/v0.1/vgg19_weights_tf_dim_ordering_tf_kernels_notop.h5\n",
      "80142336/80134624 [==============================] - 1s 0us/step\n",
      "1.12.0\n",
      "<keras.engine.input_layer.InputLayer object at 0x7f019f46b780> True\n",
      "<keras.layers.convolutional.Conv2D object at 0x7f019f46bd30> True\n",
      "<keras.layers.convolutional.Conv2D object at 0x7f019f46bba8> True\n",
      "<keras.layers.pooling.MaxPooling2D object at 0x7f019f49bb38> True\n",
      "<keras.layers.convolutional.Conv2D object at 0x7f019f49b668> True\n",
      "<keras.layers.convolutional.Conv2D object at 0x7f019f3be0f0> True\n",
      "<keras.layers.pooling.MaxPooling2D object at 0x7f019f583400> True\n",
      "<keras.layers.convolutional.Conv2D object at 0x7f019f583dd8> True\n",
      "<keras.layers.convolutional.Conv2D object at 0x7f019f5a5240> True\n",
      "<keras.layers.convolutional.Conv2D object at 0x7f019f4605f8> True\n",
      "<keras.layers.convolutional.Conv2D object at 0x7f019f450400> True\n",
      "<keras.layers.pooling.MaxPooling2D object at 0x7f019f4e6358> True\n",
      "<keras.layers.convolutional.Conv2D object at 0x7f019f4e6c88> True\n",
      "<keras.layers.convolutional.Conv2D object at 0x7f019f4dc128> True\n",
      "<keras.layers.convolutional.Conv2D object at 0x7f019f37e400> True\n",
      "<keras.layers.convolutional.Conv2D object at 0x7f019f370358> True\n",
      "<keras.layers.pooling.MaxPooling2D object at 0x7f019f8ee198> True\n",
      "<keras.layers.convolutional.Conv2D object at 0x7f019f8ee1d0> True\n",
      "<keras.layers.convolutional.Conv2D object at 0x7f019f96b588> True\n",
      "<keras.layers.convolutional.Conv2D object at 0x7f019f976128> True\n",
      "<keras.layers.convolutional.Conv2D object at 0x7f019ea6f198> True\n",
      "<keras.layers.pooling.MaxPooling2D object at 0x7f019ea8f7b8> True\n",
      "_________________________________________________________________\n",
      "Layer (type)                 Output Shape              Param #   \n",
      "=================================================================\n",
      "vgg19 (Model)                (None, 4, 4, 512)         20024384  \n",
      "_________________________________________________________________\n",
      "flatten_1 (Flatten)          (None, 8192)              0         \n",
      "_________________________________________________________________\n",
      "dense_1 (Dense)              (None, 1024)              8389632   \n",
      "_________________________________________________________________\n",
      "dropout_1 (Dropout)          (None, 1024)              0         \n",
      "_________________________________________________________________\n",
      "dense_2 (Dense)              (None, 6)                 6150      \n",
      "=================================================================\n",
      "Total params: 28,420,166\n",
      "Trainable params: 28,420,166\n",
      "Non-trainable params: 0\n",
      "_________________________________________________________________\n"
     ]
    }
   ],
   "source": [
    "from keras.applications.vgg19 import VGG19\n",
    "vgg_conv = VGG19(weights = 'imagenet',include_top = False,input_shape = (150,150,3))\n",
    "\n",
    "import tensorflow as tf\n",
    "print(tf.__version__)\n",
    "\n",
    "for layer in vgg_conv.layers[:8]:\n",
    "    layer.trainable = True\n",
    "\n",
    "for layer in vgg_conv.layers:\n",
    "    print(layer,layer.trainable)\n",
    "    \n",
    "    \n",
    "from keras import models,layers,optimizers\n",
    "model = models.Sequential()\n",
    "model.add(vgg_conv)\n",
    "model.add(layers.Flatten())\n",
    "model.add(layers.Dense(1024,  activation='relu'))\n",
    "model.add(layers.Dropout(0.25))\n",
    "model.add(layers.Dense(6,activation = 'softmax'))\n",
    "\n",
    "model.summary()\n",
    "\n",
    "model.compile(loss='categorical_crossentropy',optimizer = optimizers.Adam(lr=1e-6),metrics=['acc'])"
   ]
  },
  {
   "cell_type": "code",
   "execution_count": 4,
   "metadata": {
    "_cell_guid": "79c7e3d0-c299-4dcb-8224-4455121ee9b0",
    "_uuid": "d629ff2d2480ee46fbb7e2d37f6b5fab8052498a"
   },
   "outputs": [
    {
     "name": "stdout",
     "output_type": "stream",
     "text": [
      "Epoch 1/5\n",
      "1024/1024 [==============================] - 403s 394ms/step - loss: 0.8481 - acc: 0.6788 - val_loss: 0.4290 - val_acc: 0.8425\n",
      "Epoch 2/5\n",
      "1024/1024 [==============================] - 393s 384ms/step - loss: 0.4271 - acc: 0.8453 - val_loss: 0.3394 - val_acc: 0.8791\n",
      "Epoch 3/5\n",
      "1024/1024 [==============================] - 392s 383ms/step - loss: 0.3457 - acc: 0.8796 - val_loss: 0.2883 - val_acc: 0.8958\n",
      "Epoch 4/5\n",
      "1024/1024 [==============================] - 393s 384ms/step - loss: 0.3031 - acc: 0.8886 - val_loss: 0.2627 - val_acc: 0.9052\n",
      "Epoch 5/5\n",
      "1024/1024 [==============================] - 393s 383ms/step - loss: 0.2724 - acc: 0.9053 - val_loss: 0.2541 - val_acc: 0.9075\n"
     ]
    }
   ],
   "source": [
    "history = model.fit_generator(\n",
    "    train_generator, \n",
    "    steps_per_epoch = 1024,\n",
    "    epochs = 5,\n",
    "    shuffle = True,\n",
    "    validation_data = validation_generator,\n",
    "    validation_steps = 512,\n",
    "    use_multiprocessing=True\n",
    ")\n"
   ]
  },
  {
   "cell_type": "code",
   "execution_count": 5,
   "metadata": {
    "_uuid": "37313ee3486fede46e9d007142fcb4369f94d44f"
   },
   "outputs": [
    {
     "name": "stdout",
     "output_type": "stream",
     "text": [
      "1\n"
     ]
    },
    {
     "name": "stderr",
     "output_type": "stream",
     "text": [
      "/opt/conda/lib/python3.6/site-packages/ipykernel_launcher.py:9: SettingWithCopyWarning: \n",
      "A value is trying to be set on a copy of a slice from a DataFrame\n",
      "\n",
      "See the caveats in the documentation: http://pandas.pydata.org/pandas-docs/stable/indexing.html#indexing-view-versus-copy\n",
      "  if __name__ == '__main__':\n"
     ]
    },
    {
     "name": "stdout",
     "output_type": "stream",
     "text": [
      "101\n",
      "201\n",
      "301\n",
      "401\n",
      "501\n",
      "601\n",
      "701\n",
      "801\n",
      "901\n",
      "1001\n",
      "1101\n",
      "1201\n",
      "1301\n",
      "1401\n",
      "1501\n",
      "1601\n",
      "1701\n",
      "1801\n",
      "1901\n",
      "2001\n",
      "2101\n",
      "2201\n",
      "2301\n",
      "2401\n",
      "2501\n",
      "2601\n",
      "2701\n",
      "2801\n",
      "2901\n",
      "3001\n",
      "3101\n",
      "3201\n",
      "3301\n",
      "3401\n",
      "3501\n",
      "3601\n",
      "3701\n",
      "3801\n",
      "3901\n",
      "4001\n",
      "4101\n",
      "4201\n",
      "4301\n",
      "4401\n",
      "4501\n",
      "4601\n",
      "4701\n",
      "4801\n",
      "4901\n",
      "5001\n",
      "5101\n",
      "5201\n",
      "5301\n",
      "5401\n",
      "5501\n",
      "5601\n",
      "5701\n",
      "5801\n",
      "5901\n",
      "6001\n",
      "6101\n",
      "6201\n",
      "6301\n",
      "6401\n",
      "6501\n",
      "6601\n",
      "6701\n",
      "6801\n",
      "6901\n",
      "7001\n",
      "7101\n",
      "7201\n",
      "7301\n"
     ]
    }
   ],
   "source": [
    "X_test = np.array(X_test)/255.0\n",
    "prediction_probabilities = model.predict(X_test)\n",
    "counter = range(1, len(test_images_list) + 1)\n",
    "solution = pd.DataFrame({\"id\": counter, \"label\":list(prediction_probabilities)})\n",
    "cols = ['label']\n",
    "for i, j in enumerate(solution['label']):\n",
    "    if(i%100 == 0):\n",
    "        print(i+1)\n",
    "    solution['label'][i] = np.argmax(j)\n",
    "y_test['label'] = solution['label']\n",
    "y_test.to_csv(\"Scene2.csv\", index = False)"
   ]
  },
  {
   "cell_type": "code",
   "execution_count": 6,
   "metadata": {
    "_uuid": "37477290cbf23185cb8a8f7caea5c93067019386"
   },
   "outputs": [],
   "source": []
  }
 ],
 "metadata": {
  "kernelspec": {
   "display_name": "Python 3",
   "language": "python",
   "name": "python3"
  },
  "language_info": {
   "codemirror_mode": {
    "name": "ipython",
    "version": 3
   },
   "file_extension": ".py",
   "mimetype": "text/x-python",
   "name": "python",
   "nbconvert_exporter": "python",
   "pygments_lexer": "ipython3",
   "version": "3.6.6"
  }
 },
 "nbformat": 4,
 "nbformat_minor": 1
}
