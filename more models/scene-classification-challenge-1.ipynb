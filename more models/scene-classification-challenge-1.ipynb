{
 "cells": [
  {
   "cell_type": "code",
   "execution_count": 1,
   "metadata": {
    "_cell_guid": "b1076dfc-b9ad-4769-8c92-a6c4dae69d19",
    "_uuid": "8f2839f25d086af736a60e9eeb907d3b93b6e0e5"
   },
   "outputs": [
    {
     "name": "stdout",
     "output_type": "stream",
     "text": [
      "['test_WyRytb0.csv', 'train-scene classification']\n"
     ]
    }
   ],
   "source": [
    "# This Python 3 environment comes with many helpful analytics libraries installed\n",
    "# It is defined by the kaggle/python docker image: https://github.com/kaggle/docker-python\n",
    "# For example, here's several helpful packages to load in \n",
    "\n",
    "import numpy as np # linear algebra\n",
    "import pandas as pd # data processing, CSV file I/O (e.g. pd.read_csv)\n",
    "\n",
    "# Input data files are available in the \"../input/\" directory.\n",
    "# For example, running this (by clicking run or pressing Shift+Enter) will list the files in the input directory\n",
    "\n",
    "import os\n",
    "print(os.listdir(\"../input\"))\n",
    "\n",
    "# Any results you write to the current directory are saved as output."
   ]
  },
  {
   "cell_type": "code",
   "execution_count": 2,
   "metadata": {
    "_cell_guid": "79c7e3d0-c299-4dcb-8224-4455121ee9b0",
    "_uuid": "d629ff2d2480ee46fbb7e2d37f6b5fab8052498a"
   },
   "outputs": [
    {
     "name": "stderr",
     "output_type": "stream",
     "text": [
      "Using TensorFlow backend.\n"
     ]
    }
   ],
   "source": [
    "import os\n",
    "import re\n",
    "import cv2\n",
    "import glob\n",
    "import shutil\n",
    "import random\n",
    "import numpy as np\n",
    "import pandas as pd\n",
    "from keras import backend as K\n",
    "import matplotlib.pyplot as plt\n",
    "from keras.preprocessing import image\n",
    "from keras import layers, models, optimizers\n",
    "from sklearn.model_selection import train_test_split\n",
    "from keras.applications.vgg16 import preprocess_input\n",
    "from keras.preprocessing.image import ImageDataGenerator\n",
    "from keras.preprocessing.image import img_to_array, load_img\n",
    "\n",
    "\n",
    "TRAIN_DIR = '../input/train-scene classification/train/'\n",
    "TEST_DIR = '../input/test_WyRytb0.csv/'\n",
    "train_images = [TRAIN_DIR+i for i in os.listdir(TRAIN_DIR)]\n",
    "\n",
    "y_test = pd.read_csv(\"../input/test_WyRytb0.csv\")\n",
    "y_train = pd.read_csv(\"../input/train-scene classification/train.csv\")\n",
    "y_train = y_train['label']\n",
    "from keras.utils import to_categorical\n",
    "y_train_categorical = to_categorical(y_train, 6)\n",
    "\n",
    "train_images_list = []\n",
    "test_images_list = []\n",
    "a = list(y_test['image_name'])\n",
    "for i in train_images:\n",
    "    if str(i[42:]) not in a:\n",
    "        train_images_list.append(i)\n",
    "    if str(i[42:]) in a:\n",
    "        test_images_list.append(i)\n",
    "        \n",
    "def atoi(text):\n",
    "    return int(text) if text.isdigit() else text\n",
    "\n",
    "def natural_keys(text):\n",
    "    return [ atoi(c) for c in re.split('(\\d+)', text) ]\n",
    "\n",
    "train_images_list.sort(key=natural_keys)\n",
    "test_images_list.sort(key=natural_keys)\n",
    "\n",
    "def prepare_data(list_of_images):\n",
    "    x = [] \n",
    "    for image in list_of_images:\n",
    "        x.append(cv2.resize(cv2.imread(image), (150,150), interpolation=cv2.INTER_CUBIC))     \n",
    "    return x\n",
    "X_train = prepare_data(train_images_list)\n",
    "X_test = prepare_data(test_images_list)\n",
    "\n"
   ]
  },
  {
   "cell_type": "code",
   "execution_count": 3,
   "metadata": {
    "_uuid": "61d909416cb34aeb1b11757c9c38918f25ca4236"
   },
   "outputs": [
    {
     "name": "stderr",
     "output_type": "stream",
     "text": [
      "/opt/conda/lib/python3.6/site-packages/sklearn/model_selection/_split.py:2179: FutureWarning: From version 0.21, test_size will always complement train_size unless both are specified.\n",
      "  FutureWarning)\n"
     ]
    },
    {
     "name": "stdout",
     "output_type": "stream",
     "text": [
      "Downloading data from https://github.com/fchollet/deep-learning-models/releases/download/v0.1/vgg16_weights_tf_dim_ordering_tf_kernels_notop.h5\n",
      "58892288/58889256 [==============================] - 1s 0us/step\n",
      "1.12.0\n",
      "<keras.engine.input_layer.InputLayer object at 0x7fa9126a7550> True\n",
      "<keras.layers.convolutional.Conv2D object at 0x7fa9126a7a90> True\n",
      "<keras.layers.convolutional.Conv2D object at 0x7fa9126a7940> True\n",
      "<keras.layers.pooling.MaxPooling2D object at 0x7fa91278c240> True\n",
      "<keras.layers.convolutional.Conv2D object at 0x7fa91278c358> True\n",
      "<keras.layers.convolutional.Conv2D object at 0x7fa912903390> True\n",
      "<keras.layers.pooling.MaxPooling2D object at 0x7fa91286f828> True\n",
      "<keras.layers.convolutional.Conv2D object at 0x7fa91286f6a0> True\n",
      "<keras.layers.convolutional.Conv2D object at 0x7fa912890128> True\n",
      "<keras.layers.convolutional.Conv2D object at 0x7fa912c5a208> True\n",
      "<keras.layers.pooling.MaxPooling2D object at 0x7fa912c7d828> True\n",
      "<keras.layers.convolutional.Conv2D object at 0x7fa912c7d6a0> True\n",
      "<keras.layers.convolutional.Conv2D object at 0x7fa91296e128> True\n",
      "<keras.layers.convolutional.Conv2D object at 0x7fa912cf7208> True\n",
      "<keras.layers.pooling.MaxPooling2D object at 0x7fa912d0a828> True\n",
      "<keras.layers.convolutional.Conv2D object at 0x7fa912d0a6a0> True\n",
      "<keras.layers.convolutional.Conv2D object at 0x7fa912829128> True\n",
      "<keras.layers.convolutional.Conv2D object at 0x7fa91297d208> True\n",
      "<keras.layers.pooling.MaxPooling2D object at 0x7fa9127c4828> True\n"
     ]
    }
   ],
   "source": [
    "X_train_prime, X_val, y_train_prime, y_val = train_test_split(X_train, y_train_categorical, random_state = 6, train_size = .75)\n",
    "train_datagen = ImageDataGenerator(\n",
    "    rescale=1. / 255,\n",
    "    shear_range=0.2,\n",
    "    zoom_range=0.2,\n",
    "    horizontal_flip=True)\n",
    "\n",
    "val_datagen = ImageDataGenerator(\n",
    "    rescale=1. / 255,\n",
    "    shear_range=0.2,\n",
    "    zoom_range=0.2,\n",
    "    horizontal_flip=True)\n",
    "train_generator = train_datagen.flow(np.array(X_train_prime), y_train_prime, batch_size = 16, shuffle = True)\n",
    "validation_generator = val_datagen.flow(np.array(X_val), y_val, batch_size = 16, shuffle = True)\n",
    "\n",
    "\n",
    "from keras.applications.vgg16 import VGG16\n",
    "vgg_conv = VGG16(weights = 'imagenet',include_top = False,input_shape = (150,150,3))\n",
    "\n",
    "\n",
    "import tensorflow as tf\n",
    "print(tf.__version__)\n",
    "\n",
    "for layer in vgg_conv.layers[:8]:\n",
    "    layer.trainable = True\n",
    "\n",
    "for layer in vgg_conv.layers:\n",
    "    print(layer,layer.trainable)\n",
    "    \n",
    "    \n",
    "from keras import models,layers,optimizers\n",
    "model = models.Sequential()\n",
    "model.add(vgg_conv)\n",
    "model.add(layers.Flatten())\n",
    "model.add(layers.Dense(1024,  activation='relu'))\n",
    "model.add(layers.Dropout(0.2))\n",
    "model.add(layers.Dense(6,activation = 'softmax'))\n",
    "\n",
    "#model.summary()\n",
    "model.compile(loss='categorical_crossentropy',optimizer = optimizers.Adam(lr=1e-5),metrics=['acc'])"
   ]
  },
  {
   "cell_type": "code",
   "execution_count": 4,
   "metadata": {
    "_uuid": "13910d53e70e1c6e5e3498ab2e9da87dffb58129"
   },
   "outputs": [
    {
     "name": "stdout",
     "output_type": "stream",
     "text": [
      "Epoch 1/3\n",
      "1000/1000 [==============================] - 349s 349ms/step - loss: 0.3906 - acc: 0.8606 - val_loss: 0.2587 - val_acc: 0.9053\n",
      "Epoch 2/3\n",
      "1000/1000 [==============================] - 340s 340ms/step - loss: 0.2273 - acc: 0.9195 - val_loss: 0.2399 - val_acc: 0.9140\n",
      "Epoch 3/3\n",
      "1000/1000 [==============================] - 338s 338ms/step - loss: 0.1732 - acc: 0.9389 - val_loss: 0.2006 - val_acc: 0.9259\n"
     ]
    }
   ],
   "source": [
    "history = model.fit_generator(\n",
    "    train_generator, \n",
    "    steps_per_epoch = 1000,\n",
    "    epochs = 3,\n",
    "    shuffle = True,\n",
    "    validation_data = validation_generator,\n",
    "    validation_steps = 500,\n",
    "    use_multiprocessing=True\n",
    ")\n"
   ]
  },
  {
   "cell_type": "code",
   "execution_count": 5,
   "metadata": {
    "_uuid": "3f94988d7c763fc11f8cccffa56c30bb06d56f3e"
   },
   "outputs": [
    {
     "name": "stdout",
     "output_type": "stream",
     "text": [
      "1\n"
     ]
    },
    {
     "name": "stderr",
     "output_type": "stream",
     "text": [
      "/opt/conda/lib/python3.6/site-packages/ipykernel_launcher.py:9: SettingWithCopyWarning: \n",
      "A value is trying to be set on a copy of a slice from a DataFrame\n",
      "\n",
      "See the caveats in the documentation: http://pandas.pydata.org/pandas-docs/stable/indexing.html#indexing-view-versus-copy\n",
      "  if __name__ == '__main__':\n"
     ]
    },
    {
     "name": "stdout",
     "output_type": "stream",
     "text": [
      "1001\n",
      "2001\n",
      "3001\n",
      "4001\n",
      "5001\n",
      "6001\n",
      "7001\n"
     ]
    }
   ],
   "source": [
    "X_test = np.array(X_test)/255.0\n",
    "prediction_probabilities = model.predict(X_test)\n",
    "counter = range(1, len(test_images_list) + 1)\n",
    "solution = pd.DataFrame({\"id\": counter, \"label\":list(prediction_probabilities)})\n",
    "cols = ['label']\n",
    "for i, j in enumerate(solution['label']):\n",
    "    if(i%1000 == 0):\n",
    "        print(i+1)\n",
    "    solution['label'][i] = np.argmax(j)\n",
    "y_test['label'] = solution['label']\n",
    "y_test.to_csv(\"Scene1.csv\", index = False)"
   ]
  },
  {
   "cell_type": "code",
   "execution_count": 6,
   "metadata": {
    "_uuid": "9da3b7557b6512036bdba8a1d565d26525fbc98c"
   },
   "outputs": [],
   "source": []
  }
 ],
 "metadata": {
  "kernelspec": {
   "display_name": "Python 3",
   "language": "python",
   "name": "python3"
  }
 },
 "nbformat": 4,
 "nbformat_minor": 1
}
