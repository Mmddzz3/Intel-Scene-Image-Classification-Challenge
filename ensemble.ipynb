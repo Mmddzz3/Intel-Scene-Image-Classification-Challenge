{
 "cells": [
  {
   "cell_type": "markdown",
   "metadata": {},
   "source": [
    "#### Accuracy scores\n",
    "#### Public LB : \t0.9634703196 | Val : 0.9545054299970649 | Private LB : 0.9544120524"
   ]
  },
  {
   "cell_type": "markdown",
   "metadata": {},
   "source": [
    "##### Ensemble - Simple average of probabilities of test time augmented probabilies from all models"
   ]
  },
  {
   "cell_type": "code",
   "execution_count": 1,
   "metadata": {},
   "outputs": [],
   "source": [
    "import pandas as pd\n",
    "import numpy as np\n",
    "import matplotlib.pyplot as plt\n",
    "%matplotlib inline\n",
    "from sklearn.metrics import accuracy_score, confusion_matrix\n",
    "import itertools"
   ]
  },
  {
   "cell_type": "markdown",
   "metadata": {},
   "source": [
    "Load all test time augmented validation data probability files."
   ]
  },
  {
   "cell_type": "code",
   "execution_count": 2,
   "metadata": {},
   "outputs": [],
   "source": [
    "# resnet 50 places 365\n",
    "rn50_plc_val_df = pd.read_csv('resnet50_places_progressive_resizing/val_probs_tta.csv')\n",
    "\n",
    "# Imagenet resnet 50\n",
    "rn50_val_df = pd.read_csv('resnet_50_progressive_resizing/val_probs_tta.csv')\n",
    "\n",
    "# Imagenet resnet 101\n",
    "rn101_val_df = pd.read_csv('resnet_101/val_probs_tta.csv')\n",
    "\n",
    "# Imagenet resnext 101 \n",
    "sernxt_val_df = pd.read_csv('se_resnext101/val_probs_tta.csv')"
   ]
  },
  {
   "cell_type": "code",
   "execution_count": 3,
   "metadata": {},
   "outputs": [
    {
     "data": {
      "text/html": [
       "<div>\n",
       "<style scoped>\n",
       "    .dataframe tbody tr th:only-of-type {\n",
       "        vertical-align: middle;\n",
       "    }\n",
       "\n",
       "    .dataframe tbody tr th {\n",
       "        vertical-align: top;\n",
       "    }\n",
       "\n",
       "    .dataframe thead th {\n",
       "        text-align: right;\n",
       "    }\n",
       "</style>\n",
       "<table border=\"1\" class=\"dataframe\">\n",
       "  <thead>\n",
       "    <tr style=\"text-align: right;\">\n",
       "      <th></th>\n",
       "      <th>buildings</th>\n",
       "      <th>forest</th>\n",
       "      <th>glacier</th>\n",
       "      <th>mountain</th>\n",
       "      <th>sea</th>\n",
       "      <th>street</th>\n",
       "      <th>image_name</th>\n",
       "      <th>ground_label</th>\n",
       "    </tr>\n",
       "  </thead>\n",
       "  <tbody>\n",
       "    <tr>\n",
       "      <th>0</th>\n",
       "      <td>9.092325e-04</td>\n",
       "      <td>2.183200e-06</td>\n",
       "      <td>5.706530e-06</td>\n",
       "      <td>7.388077e-07</td>\n",
       "      <td>0.000007</td>\n",
       "      <td>9.990754e-01</td>\n",
       "      <td>16525.jpg</td>\n",
       "      <td>5</td>\n",
       "    </tr>\n",
       "    <tr>\n",
       "      <th>1</th>\n",
       "      <td>5.602316e-06</td>\n",
       "      <td>8.353445e-06</td>\n",
       "      <td>9.971453e-01</td>\n",
       "      <td>6.419359e-04</td>\n",
       "      <td>0.002160</td>\n",
       "      <td>3.872834e-05</td>\n",
       "      <td>13651.jpg</td>\n",
       "      <td>2</td>\n",
       "    </tr>\n",
       "    <tr>\n",
       "      <th>2</th>\n",
       "      <td>9.999123e-01</td>\n",
       "      <td>5.121162e-07</td>\n",
       "      <td>1.681185e-06</td>\n",
       "      <td>2.146707e-07</td>\n",
       "      <td>0.000002</td>\n",
       "      <td>8.385084e-05</td>\n",
       "      <td>13383.jpg</td>\n",
       "      <td>0</td>\n",
       "    </tr>\n",
       "    <tr>\n",
       "      <th>3</th>\n",
       "      <td>9.999747e-01</td>\n",
       "      <td>1.062802e-06</td>\n",
       "      <td>9.028997e-07</td>\n",
       "      <td>4.206092e-08</td>\n",
       "      <td>0.000002</td>\n",
       "      <td>2.139099e-05</td>\n",
       "      <td>11483.jpg</td>\n",
       "      <td>0</td>\n",
       "    </tr>\n",
       "    <tr>\n",
       "      <th>4</th>\n",
       "      <td>9.372312e-07</td>\n",
       "      <td>1.565652e-06</td>\n",
       "      <td>7.620794e-05</td>\n",
       "      <td>5.744162e-05</td>\n",
       "      <td>0.999864</td>\n",
       "      <td>4.221686e-07</td>\n",
       "      <td>19306.jpg</td>\n",
       "      <td>4</td>\n",
       "    </tr>\n",
       "  </tbody>\n",
       "</table>\n",
       "</div>"
      ],
      "text/plain": [
       "      buildings        forest       glacier      mountain       sea  \\\n",
       "0  9.092325e-04  2.183200e-06  5.706530e-06  7.388077e-07  0.000007   \n",
       "1  5.602316e-06  8.353445e-06  9.971453e-01  6.419359e-04  0.002160   \n",
       "2  9.999123e-01  5.121162e-07  1.681185e-06  2.146707e-07  0.000002   \n",
       "3  9.999747e-01  1.062802e-06  9.028997e-07  4.206092e-08  0.000002   \n",
       "4  9.372312e-07  1.565652e-06  7.620794e-05  5.744162e-05  0.999864   \n",
       "\n",
       "         street image_name  ground_label  \n",
       "0  9.990754e-01  16525.jpg             5  \n",
       "1  3.872834e-05  13651.jpg             2  \n",
       "2  8.385084e-05  13383.jpg             0  \n",
       "3  2.139099e-05  11483.jpg             0  \n",
       "4  4.221686e-07  19306.jpg             4  "
      ]
     },
     "execution_count": 3,
     "metadata": {},
     "output_type": "execute_result"
    }
   ],
   "source": [
    "rn101_val_df.head()"
   ]
  },
  {
   "cell_type": "code",
   "execution_count": 4,
   "metadata": {},
   "outputs": [],
   "source": [
    "label_cols = ['buildings', 'forest', 'glacier', 'mountain', 'sea', 'street']"
   ]
  },
  {
   "cell_type": "code",
   "execution_count": 5,
   "metadata": {},
   "outputs": [],
   "source": [
    "# ground label for validation set\n",
    "val_ground_labels = rn101_val_df['ground_label'].values"
   ]
  },
  {
   "cell_type": "code",
   "execution_count": 6,
   "metadata": {},
   "outputs": [],
   "source": [
    "# add all probs \n",
    "val_all_sum = rn101_val_df[label_cols].values + rn50_val_df[label_cols].values + rn50_plc_val_df[label_cols].values + sernxt_val_df[label_cols].values"
   ]
  },
  {
   "cell_type": "code",
   "execution_count": 7,
   "metadata": {},
   "outputs": [],
   "source": [
    "val_pred = val_all_sum.argmax(1)"
   ]
  },
  {
   "cell_type": "code",
   "execution_count": 8,
   "metadata": {},
   "outputs": [
    {
     "data": {
      "text/plain": [
       "0.9545054299970649"
      ]
     },
     "execution_count": 8,
     "metadata": {},
     "output_type": "execute_result"
    }
   ],
   "source": [
    "# Check accuracy for valiadtion set\n",
    "accuracy_score(y_true=val_ground_labels, y_pred=val_pred)"
   ]
  },
  {
   "cell_type": "markdown",
   "metadata": {},
   "source": [
    "Great! our validation set accuracy is 95.45 %"
   ]
  },
  {
   "cell_type": "markdown",
   "metadata": {},
   "source": [
    "Plot Confusion matrix"
   ]
  },
  {
   "cell_type": "code",
   "execution_count": 9,
   "metadata": {},
   "outputs": [],
   "source": [
    "label_mapper = {0: 'buildings', 1: 'forest', 2: 'glacier', 3: 'mountain', 4: 'sea', 5: 'street'}"
   ]
  },
  {
   "cell_type": "code",
   "execution_count": 10,
   "metadata": {},
   "outputs": [],
   "source": [
    "# https://www.kaggle.com/artgor/where-do-the-robots-drive\n",
    "\n",
    "def plot_confusion_matrix(truth, pred, classes, normalize=False, title=''):\n",
    "    cm = confusion_matrix(truth, pred)\n",
    "    if normalize:\n",
    "        cm = cm.astype('float') / cm.sum(axis=1)[:, np.newaxis]\n",
    "    \n",
    "    plt.figure(figsize=(5, 5))\n",
    "    plt.imshow(cm, interpolation='nearest', cmap=plt.cm.Blues)\n",
    "    plt.title('Confusion matrix', size=15)\n",
    "    plt.colorbar(fraction=0.046, pad=0.04)\n",
    "    tick_marks = np.arange(len(classes))\n",
    "    plt.xticks(tick_marks, classes, rotation=90)\n",
    "    plt.yticks(tick_marks, classes)\n",
    "\n",
    "    fmt = '.2f' if normalize else 'd'\n",
    "    thresh = cm.max() / 2.\n",
    "    for i, j in itertools.product(range(cm.shape[0]), range(cm.shape[1])):\n",
    "        plt.text(j, i, format(cm[i, j], fmt),\n",
    "                 horizontalalignment=\"center\",\n",
    "                 color=\"white\" if cm[i, j] > thresh else \"black\")\n",
    "\n",
    "    plt.ylabel('True label')\n",
    "    plt.xlabel('Predicted label')\n",
    "    plt.grid(False)\n",
    "    plt.tight_layout()"
   ]
  },
  {
   "cell_type": "code",
   "execution_count": 11,
   "metadata": {},
   "outputs": [
    {
     "data": {
      "image/png": "[encoded data removed]",
      "text/plain": [
       "<Figure size 360x360 with 2 Axes>"
      ]
     },
     "metadata": {},
     "output_type": "display_data"
    }
   ],
   "source": [
    "plot_confusion_matrix(pd.Series(val_ground_labels).map(label_mapper), pd.Series(val_pred).map(label_mapper), label_cols)"
   ]
  },
  {
   "cell_type": "markdown",
   "metadata": {},
   "source": [
    "Load all test time augmented test data probability files."
   ]
  },
  {
   "cell_type": "code",
   "execution_count": 12,
   "metadata": {},
   "outputs": [],
   "source": [
    "# resnet 50 places 365\n",
    "rn50_plc_test_df = pd.read_csv('resnet50_places_progressive_resizing/test_probs_tta.csv')\n",
    "\n",
    "# Imagenet resnet 50\n",
    "rn50_test_df = pd.read_csv('resnet_50_progressive_resizing/test_probs_tta.csv')\n",
    "\n",
    "# Imagenet resnet 101\n",
    "rn101_test_df = pd.read_csv('resnet_101/test_probs_tta.csv')\n",
    "\n",
    "# Imagenet resnext 101 \n",
    "sernxt_test_df = pd.read_csv('se_resnext101/test_probs_tta.csv')"
   ]
  },
  {
   "cell_type": "code",
   "execution_count": 13,
   "metadata": {},
   "outputs": [],
   "source": [
    "# add probabilities\n",
    "test_all_sum = rn101_test_df[label_cols].values + rn50_test_df[label_cols].values + rn50_plc_test_df[label_cols].values + sernxt_test_df[label_cols].values"
   ]
  },
  {
   "cell_type": "code",
   "execution_count": 14,
   "metadata": {},
   "outputs": [],
   "source": [
    "# image file names\n",
    "test_img_names = rn101_test_df['image_name'].values"
   ]
  },
  {
   "cell_type": "code",
   "execution_count": 15,
   "metadata": {},
   "outputs": [],
   "source": [
    "# make a submission\n",
    "pd.DataFrame({'image_name': test_img_names, 'label': test_all_sum.argmax(1)}).to_csv('sub.csv', index=False)"
   ]
  },
  {
   "cell_type": "code",
   "execution_count": null,
   "metadata": {},
   "outputs": [],
   "source": []
  }
 ],
 "metadata": {
  "kernelspec": {
   "display_name": "Python 3",
   "language": "python",
   "name": "python3"
  },
  "language_info": {
   "codemirror_mode": {
    "name": "ipython",
    "version": 3
   },
   "file_extension": ".py",
   "mimetype": "text/x-python",
   "name": "python",
   "nbconvert_exporter": "python",
   "pygments_lexer": "ipython3",
   "version": "3.6.5"
  }
 },
 "nbformat": 4,
 "nbformat_minor": 2
}
